{
 "cells": [
  {
   "cell_type": "markdown",
   "metadata": {},
   "source": [
    "# **Le-Net5**\n"
   ]
  },
  {
   "cell_type": "code",
   "execution_count": 2,
   "metadata": {},
   "outputs": [],
   "source": [
    "# imports\n",
    "import torch\n",
    "from torch import nn"
   ]
  },
  {
   "cell_type": "markdown",
   "metadata": {},
   "source": [
    "# **Implementierung der LeNet-5 Architektur**\n",
    "\n",
    "Die Architektur besteht aus zwei Convolutional-, zwei MaxPool-, einem Flatten- und drei Fully Connected Layer. Der Input ist ein Bild mit den Dimensionen 32x32, der Output sind Zehn Werte, welche die Zahlen von 0-9 repräsentieren. Als Aktivierungfunktion werden die LeakyReLU- und Softmaxfunktion verwendet, um das Modell für das Training zu stabilisieren, d.h. um Werte von <0 zu vermeiden. Die Softmaxfunktion bewirkt, dass die Ausgaben des Outputlayer auf einen Bereich von [0,1] normiert werden."
   ]
  },
  {
   "cell_type": "code",
   "execution_count": null,
   "metadata": {},
   "outputs": [],
   "source": [
    "class Le_Net(nn.Module):\n",
    "    def __init__(self):\n",
    "        super(Le_Net, self).__init__()\n",
    "        self.conv1 = nn.Conv2d(1,6,kernel_size=5, padding=2)\n",
    "        self.pool1 = nn.MaxPool2d(2,stride=2)\n",
    "        self.conv2 = nn.Conv2d(6,16,kernel_size=5)\n",
    "        self.pool2 = nn.MaxPool2d(2,2)\n",
    "        self.flatten = nn.Flatten()\n",
    "        self.fc1 = nn.Linear(in_features= 16*5*5, out_features= 120)\n",
    "        self.fc2 = nn.Linear(in_features=120, out_features= 84)\n",
    "        self.fc3 = nn.Linear(in_features=84, out_features=10)\n",
    "        \n",
    "    def forward(self, x):\n",
    "        x = nn.LeakyReLU(self.conv1(x))\n",
    "        x = self.pool1(x)\n",
    "        x = nn.LeakyReLU(self.conv2(x))\n",
    "        x = self.pool2(x)\n",
    "        x = self.flatten(x)\n",
    "        x = nn.LeakyReLU(self.fc1(x))\n",
    "        x = nn.LeakyReLU(self.fc2(x))\n",
    "        x = nn.Softmax(self.fc3(x))\n"
   ]
  }
 ],
 "metadata": {
  "kernelspec": {
   "display_name": "base",
   "language": "python",
   "name": "python3"
  },
  "language_info": {
   "codemirror_mode": {
    "name": "ipython",
    "version": 3
   },
   "file_extension": ".py",
   "mimetype": "text/x-python",
   "name": "python",
   "nbconvert_exporter": "python",
   "pygments_lexer": "ipython3",
   "version": "3.10.14"
  }
 },
 "nbformat": 4,
 "nbformat_minor": 2
}
